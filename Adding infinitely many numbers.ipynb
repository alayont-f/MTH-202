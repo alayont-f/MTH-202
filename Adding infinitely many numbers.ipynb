{
 "cells": [
  {
   "cell_type": "markdown",
   "metadata": {
    "id": "9sbKmxmeyC15"
   },
   "source": [
    "## Adding Infinitely Many Numbers  \n",
    "\n",
    "What happens if we add infinitely many numbers? The code snippets below calculate finite sums. By changing the upper limit to be larger and larger values, we can imagine what the sum of infinitely many of those numbers will be. "
   ]
  },
  {
   "cell_type": "markdown",
   "metadata": {},
   "source": [
    "This first box is for adding all positive terms. We enter the expression at the beginning ($1/n^2$ in this case) and then tell Python to add these expressions for $n$ ranging from 1 to 1000. The range command uses 1001 as the stopping value. However, Python doesn't use the last value, so it stops at the value one before that. If you want to add a different series, just change the expression at the beginning. If you want to add up to a different limit value for $n$, change the bound in the range command."
   ]
  },
  {
   "cell_type": "code",
   "execution_count": null,
   "metadata": {
    "colab": {
     "base_uri": "https://localhost:8080/",
     "height": 265
    },
    "executionInfo": {
     "elapsed": 342,
     "status": "ok",
     "timestamp": 1630870045948,
     "user": {
      "displayName": "",
      "photoUrl": "",
      "userId": ""
     },
     "user_tz": 240
    },
    "id": "Ivv3qQ34yC19",
    "outputId": "7f0037de-8cf9-4dc8-d466-53eaaea01588"
   },
   "outputs": [],
   "source": [
    "import numpy as np  #just in case you need a sum that requires fancy functions like sin\n",
    "\n",
    "sum(1/n**2 for n in range(1, 1001))  "
   ]
  },
  {
   "cell_type": "markdown",
   "metadata": {},
   "source": [
    "The infinite sum corresponding to the above sum is a famous problem, called the Basel problem. Its exact value is $\\pi^2/6$. This value was first found by Euler in 1734, making him a famous mathematician at the time since many people had tried but could not solve this problem. Read more about it at https://en.wikipedia.org/wiki/Basel_problem.\n",
    "***"
   ]
  },
  {
   "cell_type": "markdown",
   "metadata": {},
   "source": [
    "This next one is the alternating series, with the + and - values alternating, due to the $(-1)^{n+1}$ listed in the expression of the terms. This is adding alternating $1/n^2$ values starting with a positive term. If you want to start with a negative term, use $(-1)^n$."
   ]
  },
  {
   "cell_type": "code",
   "execution_count": null,
   "metadata": {},
   "outputs": [],
   "source": [
    "sum((-1)**(n+1)/n**2 for n in range(1, 1001))"
   ]
  },
  {
   "cell_type": "markdown",
   "metadata": {},
   "source": [
    "The value of the alternating version of the $1/n^2$ series is related to the non-alternating version, so the corresponding infinite sum can be shown to be $\\pi^2/12$.\n",
    "***"
   ]
  },
  {
   "cell_type": "markdown",
   "metadata": {},
   "source": [
    "If you want to add just numbers indexed by even numbers, for example, use $2n$ to create that list. If we want to add reciprocals of squares of even numbers, that would be as follows"
   ]
  },
  {
   "cell_type": "code",
   "execution_count": null,
   "metadata": {},
   "outputs": [],
   "source": [
    "sum(1/(2*n)**2 for n in range(1, 1001))  #this adds up 1/2^2, 1/4^2, ..., 1/2000^2"
   ]
  },
  {
   "cell_type": "markdown",
   "metadata": {},
   "source": [
    "The value of the corresponding infinite sum is $1/4$ of the value of the Basel problem sum, so it is $\\pi^2/24$.\n",
    "***"
   ]
  },
  {
   "cell_type": "markdown",
   "metadata": {},
   "source": [
    "If you want to add numbers indexed by odd numbers, use $2n-1$ to create that list. For example, if we want to add alternating reciprocals of odd numbers, that would be as follows"
   ]
  },
  {
   "cell_type": "code",
   "execution_count": null,
   "metadata": {},
   "outputs": [],
   "source": [
    "sum((-1)**(n+1)/(2*n-1)**2 for n in range(1, 1001)) #this adds up 1/1^2, -1/3^2, 1/5^2, ..., -1/1999^2"
   ]
  },
  {
   "cell_type": "markdown",
   "metadata": {},
   "source": [
    "The value of the corresponding infinite sum is Catalan's constant by definition. It is not known whether G is transcendental or even irrational. Check out https://en.wikipedia.org/wiki/Catalan%27s_constant for more info."
   ]
  },
  {
   "cell_type": "markdown",
   "metadata": {},
   "source": [
    "What if we considered the sum of another infinite list of numbers? What happens when you look at the sum of the series of the form $1/n$ as you keep increasing the upper bound?"
   ]
  },
  {
   "cell_type": "code",
   "execution_count": null,
   "metadata": {},
   "outputs": [],
   "source": [
    "sum(1/n for n in range(1, 10000001))  "
   ]
  },
  {
   "cell_type": "markdown",
   "metadata": {},
   "source": [
    "How about the alternating version of the above series? Does it behave in a similar way?"
   ]
  },
  {
   "cell_type": "code",
   "execution_count": null,
   "metadata": {},
   "outputs": [],
   "source": [
    "sum((-1)**(n+1)/n for n in range(1, 1001))  "
   ]
  }
 ],
 "metadata": {
  "colab": {
   "name": "Plotting functions.ipynb",
   "provenance": [
    {
     "file_id": "https://github.com/alayont-f/calculus2/blob/main/Plotting_functions.ipynb",
     "timestamp": 1630870282773
    }
   ]
  },
  "kernelspec": {
   "display_name": "Python 3",
   "language": "python",
   "name": "python3"
  },
  "language_info": {
   "codemirror_mode": {
    "name": "ipython",
    "version": 3
   },
   "file_extension": ".py",
   "mimetype": "text/x-python",
   "name": "python",
   "nbconvert_exporter": "python",
   "pygments_lexer": "ipython3",
   "version": "3.8.8"
  }
 },
 "nbformat": 4,
 "nbformat_minor": 1
}
